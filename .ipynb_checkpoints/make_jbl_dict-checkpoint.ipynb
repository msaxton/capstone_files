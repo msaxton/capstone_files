{
 "cells": [
  {
   "cell_type": "code",
   "execution_count": 9,
   "metadata": {},
   "outputs": [],
   "source": [
    "import os\n",
    "import collections\n",
    "import xml.etree.ElementTree as ET"
   ]
  },
  {
   "cell_type": "code",
   "execution_count": 5,
   "metadata": {},
   "outputs": [],
   "source": [
    "path = './data/'\n",
    "xml_files = os.listdir(path + 'metadata')\n",
    "txt_files = os.listdir(path + 'ocr')\n",
    "d = collections.OrderedDict()\n",
    "i = 0"
   ]
  },
  {
   "cell_type": "code",
   "execution_count": 6,
   "metadata": {},
   "outputs": [],
   "source": [
    "for xml, txt in zip(sorted(xml_files), sorted(txt_files)):\n",
    "    article_dict = {}\n",
    "    #print(xml) # TESTING\n",
    "    # access xml file\n",
    "    tree = ET.parse(path + 'metadata/' + xml)\n",
    "    root = tree.getroot()\n",
    "    # find title\n",
    "    title = root.find('./front/article-meta/title-group/article-title')\n",
    "    try:\n",
    "        title = title.text\n",
    "        title = title.lower()\n",
    "        #print(title)  # TESTING\n",
    "    except AttributeError:\n",
    "        title = 'untitled book review' # jbl does not title book reviews\n",
    "        #print(title)  # TESTING\n",
    "    unwanted_titles = ['front matter', 'back matter', 'annual index', 'volume information'] # ignore these titles\n",
    "    if not title in unwanted_titles:\n",
    "        article_dict['title'] = title\n",
    "        article_id = root.find('./front/article-meta/article-id')\n",
    "        article_id = article_id.text.lower()\n",
    "        # add article_id to article_dict\n",
    "        article_dict['article_id'] = article_id\n",
    "        # add author to article_dict\n",
    "        f_name = root.find('./front/article-meta/contrib-group/contrib/string-name/given-names')\n",
    "        l_name = root.find('./front/article-meta/contrib-group/contrib/string-name/surname')\n",
    "        author = root.find('./front/article-meta/contrib-group/contrib/string-name')\n",
    "        if f_name != None:\n",
    "            author = l_name.text + ', ' + f_name.text\n",
    "        elif author != None:\n",
    "            author = root.find('./front/article-meta/contrib-group/contrib/string-name')\n",
    "            author = author.text\n",
    "        else:\n",
    "            author = 'author not listed'\n",
    "        article_dict['author'] = author\n",
    "        # add publish date to article_dict\n",
    "        pub_year = root.find('./front/article-meta/pub-date/year')\n",
    "        article_dict['pub_year'] = pub_year.text\n",
    "            # access plain text file\n",
    "        with open(path + 'ocr/' + txt, mode='r', encoding='utf8') as f:\n",
    "            text = f.read()\n",
    "        # add text to article_dict\n",
    "        article_dict['text'] = text\n",
    "        d[str(i)] = article_dict\n",
    "        i +=1   "
   ]
  },
  {
   "cell_type": "code",
   "execution_count": 8,
   "metadata": {},
   "outputs": [
    {
     "data": {
      "text/plain": [
       "10355"
      ]
     },
     "execution_count": 8,
     "metadata": {},
     "output_type": "execute_result"
    }
   ],
   "source": [
    "len(xml_files)"
   ]
  }
 ],
 "metadata": {
  "kernelspec": {
   "display_name": "Python 3",
   "language": "python",
   "name": "python3"
  },
  "language_info": {
   "codemirror_mode": {
    "name": "ipython",
    "version": 3
   },
   "file_extension": ".py",
   "mimetype": "text/x-python",
   "name": "python",
   "nbconvert_exporter": "python",
   "pygments_lexer": "ipython3",
   "version": "3.6.4"
  }
 },
 "nbformat": 4,
 "nbformat_minor": 2
}
