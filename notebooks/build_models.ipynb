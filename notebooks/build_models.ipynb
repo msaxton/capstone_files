{
 "cells": [
  {
   "cell_type": "markdown",
   "metadata": {},
   "source": [
    "# Building Topic Models \n",
    "\n",
    "The core of this project is the building of multiple topic models based on the same corpus of documents, the *JBL*. There are three primary variations that are being tested:\n",
    "* The number of topics assigned to each model\n",
    "* The value assigned to the alpha hyper-parameter\n",
    "* The types of words included in the corpus, whether they should be from all parts of speech or just nouns\n",
    "\n",
    "For a base-line of comparison I build the following model:\n",
    "* Model based on a noun-only corpus, 75 topics, alpha = 'symmetric'\n",
    "\n",
    "To make analyze the number of topics I build the following models:\n",
    "* Model based on a noun-only corpus, 25 topics, alpha = 'symmetric'\n",
    "* Model based on a noun-only corpus, 150 topics, alpha = 'symmetric'\n",
    "\n",
    "To analyze the value of alpha I build the following models\n",
    "* Model based on a noun-only corpus, 75 topics, alpha = 'auto'\n",
    "* Model based on a noun-only corpus, 75 topics, alpha = 0.5\n",
    "\n",
    "To analyze the types of words included in the corpus I build the following model:\n",
    "* Model based on a regular corpus, 75 topics, alpha = symmetric"
   ]
  },
  {
   "cell_type": "markdown",
   "metadata": {},
   "source": [
    "## Set up"
   ]
  },
  {
   "cell_type": "code",
   "execution_count": null,
   "metadata": {},
   "outputs": [],
   "source": [
    "from gensim import corpora, models"
   ]
  },
  {
   "cell_type": "code",
   "execution_count": null,
   "metadata": {},
   "outputs": [],
   "source": [
    "# load corpus and dictionary for noun-only models\n",
    "n_path = '../noun_corpus/'\n",
    "n_dictionary = corpora.Dictionary.load(path + 'noun_corpus.dict')\n",
    "n_corpus = corpora.MmCorpus(path + 'noun_corpus.mm')"
   ]
  },
  {
   "cell_type": "markdown",
   "metadata": {},
   "source": [
    "## Model 1: Model based on a noun-only corpus, 75 topics, alpha = 'symmetric'"
   ]
  },
  {
   "cell_type": "code",
   "execution_count": null,
   "metadata": {},
   "outputs": [],
   "source": [
    "lda_75 = models.LdaModel(n_corpus, id2word=n_dictionary, num_topics=75, passes=100, random_state=42)\n",
    "lda_75.save(path + 'noun_75.model')"
   ]
  },
  {
   "cell_type": "markdown",
   "metadata": {},
   "source": [
    "## Model 2: Model based on a noun-only corpus, 25 topics, alpha = 'symmetric'"
   ]
  },
  {
   "cell_type": "code",
   "execution_count": null,
   "metadata": {
    "scrolled": false
   },
   "outputs": [],
   "source": [
    "lda_25 = models.LdaModel(n_corpus, id2word=n_dictionary, num_topics=25, passes=100, random_state=42)\n",
    "lda_25.save(path + 'noun_25.model')"
   ]
  },
  {
   "cell_type": "markdown",
   "metadata": {},
   "source": [
    "## Model 3: Model based on a noun-only corpus, 150 topics, alpha = 'symmetric'"
   ]
  },
  {
   "cell_type": "code",
   "execution_count": null,
   "metadata": {},
   "outputs": [],
   "source": [
    "lda_150 = models.LdaModel(n_corpus, id2word=n_dictionary, num_topics=150, passes=100, random_state=42)\n",
    "lda_150.save(path + 'noun_150.model')"
   ]
  },
  {
   "cell_type": "markdown",
   "metadata": {},
   "source": [
    "## Model 4: Model based on a noun-only corpus, 75 topics, alpha = 'auto'"
   ]
  },
  {
   "cell_type": "code",
   "execution_count": null,
   "metadata": {},
   "outputs": [],
   "source": [
    "lda_auto = models.LdaModel(n_corpus, id2word=n_dictionary, num_topics=75, passes=100, alpha='auto', random_state=42)\n",
    "lda_auto.save(path + 'alphas/noun_auto.model')"
   ]
  },
  {
   "cell_type": "markdown",
   "metadata": {},
   "source": [
    "## Model 5: Model based on a noun-only corpus, 75 topics, alpha = 0.5"
   ]
  },
  {
   "cell_type": "code",
   "execution_count": null,
   "metadata": {},
   "outputs": [],
   "source": [
    "np_05 = np.full(75, 0.5) # create array of 0.5 values to feed to the model\n",
    "lda_05 = models.LdaModel(corpus, id2word=dictionary, num_topics=75, passes=100, alpha=np_05, random_state=42)\n",
    "lda_05.save(path + 'alphas/noun_05.model')"
   ]
  },
  {
   "cell_type": "markdown",
   "metadata": {},
   "source": [
    "## Model 6:  Model based on a regular corpus, 75 topics, alpha = symmetric"
   ]
  },
  {
   "cell_type": "code",
   "execution_count": null,
   "metadata": {},
   "outputs": [],
   "source": [
    "# load dictionary and corpus for regular corpus models\n",
    "r_path = '../general_corpus/'\n",
    "r_dictionary = corpora.Dictionary.load(path + 'general_corpus.dict')\n",
    "r_corpus = corpora.MmCorpus(path + 'general_corpus.mm')\n",
    "\n",
    "lda_75 = models.LdaModel(corpus, id2word=dictionary, num_topics=75, passes=100, random_state=42)\n",
    "lda_75.save(path + 'general_75.model')"
   ]
  }
 ],
 "metadata": {
  "kernelspec": {
   "display_name": "Python 3",
   "language": "python",
   "name": "python3"
  },
  "language_info": {
   "codemirror_mode": {
    "name": "ipython",
    "version": 3
   },
   "file_extension": ".py",
   "mimetype": "text/x-python",
   "name": "python",
   "nbconvert_exporter": "python",
   "pygments_lexer": "ipython3",
   "version": "3.6.4"
  }
 },
 "nbformat": 4,
 "nbformat_minor": 2
}
