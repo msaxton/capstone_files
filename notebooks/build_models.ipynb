{
 "cells": [
  {
   "attachments": {},
   "cell_type": "markdown",
   "metadata": {},
   "source": [
    "# Building Topic Models\n",
    "\n",
    "The core of this project is the building of multiple topic models based on the same collection of documents, the *JBL*. There are three primary variations that are being tested:\n",
    "* The types of words included in the corpus, whether they should be from all parts of speech or just nouns\n",
    "* How many topics should be assigned to each model\n",
    "* What value should be assigned to the alpha hyper-parameter\n",
    "\n",
    "In other notebooks I make multiple comparisons to test these variations. First, I take the general corpus and alpha = 'symmetric' as my constants and I compare how the number of topics effect the model. Then I take the general corpus and alpha = 'symmetric' as constants and I compare how the number of topics effect the model. On the basis of those comparisons, I take number of topics and alpha = 'symmetric' as constants and investigate how limiting the parts of speech of the corpus effect the model. Finally, I take the general corpus and number of topics as a constant and compare how the alpha hyper-parameter affect the model. In order to make all of those comparisons, I build the following models in this notebook:\n",
    "1. General corpus model, 100 topics, alpha = 'symmetric'\n",
    "2. General corpus model, 100 topics, alpha = 'asymmetric'\n",
    "3. General corpus model, 100 topics, alpha = 'auto'\n",
    "4. General corpus model, 250 topics, alpha = 'symmetric'\n",
    "5. General corpus model, 500 topics, alpha = 'symmetric'\n",
    "6. Noun corpus model, 100 topics, alpha = 'symmetric'\n",
    "7. Noun corpus model, 250 topics, alpha = 'symmetric'\n",
    "8. Noun corpus model, 500 topics, alpha = 'symmetric"
   ]
  },
  {
   "cell_type": "markdown",
   "metadata": {},
   "source": [
    "## Imports and Set-up"
   ]
  },
  {
   "cell_type": "code",
   "execution_count": 1,
   "metadata": {},
   "outputs": [],
   "source": [
    "from gensim import corpora, models\n",
    "import logging"
   ]
  },
  {
   "cell_type": "code",
   "execution_count": null,
   "metadata": {},
   "outputs": [],
   "source": [
    "logging.basicConfig(format='%(asctime)s : %(levelname)s : %(message)s', level=logging.INFO)"
   ]
  },
  {
   "cell_type": "code",
   "execution_count": null,
   "metadata": {},
   "outputs": [],
   "source": [
    "# delete when reproduced in cells below\n",
    "def build_models(num, corpus, dictionary, base_name):\n",
    "    lda = models.LdaModel(corpus, id2word=dictionary, num_topics=num, passes=25)\n",
    "    lda.save(path + base_name + str(num) + '.model')"
   ]
  },
  {
   "cell_type": "markdown",
   "metadata": {},
   "source": [
    "## Build models from the General Corpus"
   ]
  },
  {
   "cell_type": "markdown",
   "metadata": {},
   "source": [
    "### Load Corpus and Dictionary for General Corpus"
   ]
  },
  {
   "cell_type": "code",
   "execution_count": null,
   "metadata": {},
   "outputs": [],
   "source": [
    "path = '../general_corpus/'\n",
    "dictionary = corpora.Dictionary.load(path + 'general_corpus.dict')\n",
    "corpus = corpora.MmCorpus(path + general_corpus.mm)"
   ]
  },
  {
   "cell_type": "markdown",
   "metadata": {},
   "source": [
    "### 100 Topics, alpha = 'symmetric'"
   ]
  },
  {
   "cell_type": "code",
   "execution_count": null,
   "metadata": {},
   "outputs": [],
   "source": [
    "lda_100 = models.LdaModel(corpus, id2word=dictionary, num_topics=100, passes=25)\n",
    "lda_100.save(path + 'alpha_symmetric/general_100.model')"
   ]
  },
  {
   "cell_type": "markdown",
   "metadata": {},
   "source": [
    "### 100 Topics, alpha = 'asymmetric'"
   ]
  },
  {
   "cell_type": "code",
   "execution_count": null,
   "metadata": {},
   "outputs": [],
   "source": [
    "lda_100_asymmetric = models.LdaModel(corpus, id2word=dictionary, num_topics=100, passes=25, alpha='asymmetric')\n",
    "lda_100_asymmetric.save(path + 'alpha_asymmetric/general_100_asymmetric.model')"
   ]
  },
  {
   "cell_type": "markdown",
   "metadata": {},
   "source": [
    "### 100 Topics, alpha = 'auto'"
   ]
  },
  {
   "cell_type": "code",
   "execution_count": null,
   "metadata": {},
   "outputs": [],
   "source": [
    "lda_100_auto = models.LdaModel(corpus, id2word=dictionary, num_topics=100, passes=25, alpha='auto')\n",
    "lda_100_auto.save(path + 'alpha_auto/general_100_auto.model')"
   ]
  },
  {
   "cell_type": "markdown",
   "metadata": {},
   "source": [
    "### 250 Topics, alpha = 'symmetric'"
   ]
  },
  {
   "cell_type": "code",
   "execution_count": null,
   "metadata": {},
   "outputs": [],
   "source": [
    "lda_250 = models.LdaModel(corpus, id2word=dictionary, num_topics=250, passes=25)\n",
    "lda_250.save(path + 'alpha_symmetric/general_250.model')"
   ]
  },
  {
   "cell_type": "markdown",
   "metadata": {},
   "source": [
    "### 500 Topics, alpha = 'symmetric'"
   ]
  },
  {
   "cell_type": "code",
   "execution_count": null,
   "metadata": {},
   "outputs": [],
   "source": [
    "lda_500 = models.LdaModel(corpus, id2word=dictionary, num_topics=500, passes=25)\n",
    "lda_500.save(path + 'alpha_symmetric/general_500.model')"
   ]
  },
  {
   "cell_type": "markdown",
   "metadata": {},
   "source": [
    "## Build models from the Noun Corpus with 100, 250, and 500 topics, alpha = 'symmetric'"
   ]
  },
  {
   "cell_type": "markdown",
   "metadata": {},
   "source": [
    "### Load Corpus and Dictionary for Noun Corpus"
   ]
  },
  {
   "cell_type": "code",
   "execution_count": 3,
   "metadata": {},
   "outputs": [],
   "source": [
    "path = '../noun_corpus/'\n",
    "dictionary = corpora.Dictionary.load(path + 'noun_corpus.dict')\n",
    "corpus = corpora.MmCorpus(path + 'noun_corpus.mm')"
   ]
  },
  {
   "cell_type": "markdown",
   "metadata": {},
   "source": [
    "### 100 Topics"
   ]
  },
  {
   "cell_type": "code",
   "execution_count": null,
   "metadata": {},
   "outputs": [],
   "source": [
    "lda_100 = models.LdaModel(corpus, id2word=dictionary, num_topics=100, passes=25)\n",
    "lda_100.save(path + 'noun_100.model')"
   ]
  },
  {
   "cell_type": "markdown",
   "metadata": {},
   "source": [
    "### 250 Topics"
   ]
  },
  {
   "cell_type": "code",
   "execution_count": null,
   "metadata": {},
   "outputs": [],
   "source": [
    "lda_250 = models.LdaModel(corpus, id2word=dictionary, num_topics=250, passes=25)\n",
    "lda_250.save(path + 'noun_250.model')"
   ]
  },
  {
   "cell_type": "markdown",
   "metadata": {},
   "source": [
    "### 500 Topics"
   ]
  },
  {
   "cell_type": "code",
   "execution_count": null,
   "metadata": {},
   "outputs": [],
   "source": [
    "lda_500 = models.LdaModel(corpus, id2word=dictionary, num_topics=500, passes=25)\n",
    "lda_500.save(path + 'noun_500.model')"
   ]
  }
 ],
 "metadata": {
  "kernelspec": {
   "display_name": "Python 3",
   "language": "python",
   "name": "python3"
  },
  "language_info": {
   "codemirror_mode": {
    "name": "ipython",
    "version": 3
   },
   "file_extension": ".py",
   "mimetype": "text/x-python",
   "name": "python",
   "nbconvert_exporter": "python",
   "pygments_lexer": "ipython3",
   "version": "3.6.4"
  }
 },
 "nbformat": 4,
 "nbformat_minor": 2
}
